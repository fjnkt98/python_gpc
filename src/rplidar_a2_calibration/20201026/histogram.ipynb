{
 "cells": [
  {
   "cell_type": "code",
   "execution_count": 1,
   "metadata": {},
   "outputs": [],
   "source": [
    "import numpy as np\n",
    "import matplotlib.pyplot as plt\n",
    "import math"
   ]
  },
  {
   "cell_type": "code",
   "execution_count": 2,
   "metadata": {},
   "outputs": [
    {
     "data": {
      "text/plain": [
       "8819"
      ]
     },
     "execution_count": 2,
     "metadata": {},
     "output_type": "execute_result"
    }
   ],
   "source": [
    "# Raw data\n",
    "data_raw = np.loadtxt(\"lidar_data_20201026.csv\", delimiter=',', skiprows=1)\n",
    "\n",
    "# Extract list of range data from raw data\n",
    "data = data_raw.T[1]\n",
    "\n",
    "# Check length\n",
    "len(data)\n",
    "\n",
    "# Remove data with a value less than 6500\n",
    "data = data[data > 6500]\n",
    "len(data)"
   ]
  },
  {
   "cell_type": "code",
   "execution_count": 18,
   "metadata": {},
   "outputs": [
    {
     "name": "stdout",
     "output_type": "stream",
     "text": [
      "6.874889103072912\n",
      "0.016552210800017474\n"
     ]
    }
   ],
   "source": [
    "data_m = data / 1000\n",
    "data_m\n",
    "\n",
    "print(data_m.mean())\n",
    "print(data_m.std())"
   ]
  },
  {
   "cell_type": "code",
   "execution_count": 16,
   "metadata": {},
   "outputs": [
    {
     "name": "stdout",
     "output_type": "stream",
     "text": [
      "6874.889103072911\n",
      "16.552210800017534\n"
     ]
    }
   ],
   "source": [
    "mean = data.mean()\n",
    "std = data.std()\n",
    "print(mean)\n",
    "print(std)\n",
    "\n",
    "def p(x, mu, std):\n",
    "    return math.exp(-(x - mu)**2 / (2 * std**2)) / math.sqrt(2 * math.pi * std**2)\n",
    "\n",
    "xs = np.arange(6500, 7500)\n",
    "ys = [p(x, mean, std) for x in xs]"
   ]
  },
  {
   "cell_type": "code",
   "execution_count": 17,
   "metadata": {},
   "outputs": [
    {
     "data": {
      "image/png": "[encoded data removed]",
      "text/plain": [
       "<Figure size 432x288 with 1 Axes>"
      ]
     },
     "metadata": {
      "needs_background": "light"
     },
     "output_type": "display_data"
    }
   ],
   "source": [
    "# Prepare graph axes\n",
    "fig = plt.figure()\n",
    "ax = fig.add_subplot(111,\n",
    "                    xlabel=\"Range[mm]\",\n",
    "                    ylabel=\"Frequency\")\n",
    "ax.set_xlim([6700, 7000])\n",
    "\n",
    "# Plot histogram\n",
    "#ax.hist(data, bins='auto', histtype='bar', align='left', density=True)\n",
    "\n",
    "# Plot Gaussian\n",
    "ax.plot(xs, ys)\n",
    "\n",
    "# Save as PDF\n",
    "plt.savefig(\"histogram.pdf\")"
   ]
  }
 ],
 "metadata": {
  "kernelspec": {
   "display_name": "Python 3",
   "language": "python",
   "name": "python3"
  },
  "language_info": {
   "codemirror_mode": {
    "name": "ipython",
    "version": 3
   },
   "file_extension": ".py",
   "mimetype": "text/x-python",
   "name": "python",
   "nbconvert_exporter": "python",
   "pygments_lexer": "ipython3",
   "version": "3.8.2"
  }
 },
 "nbformat": 4,
 "nbformat_minor": 4
}
