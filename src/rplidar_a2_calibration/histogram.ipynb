{
 "cells": [
  {
   "cell_type": "code",
   "execution_count": 1,
   "metadata": {},
   "outputs": [],
   "source": [
    "import pandas as pd\n",
    "import matplotlib.pyplot as plt"
   ]
  },
  {
   "cell_type": "code",
   "execution_count": 2,
   "metadata": {},
   "outputs": [
    {
     "data": {
      "text/html": [
       "<div>\n",
       "<style scoped>\n",
       "    .dataframe tbody tr th:only-of-type {\n",
       "        vertical-align: middle;\n",
       "    }\n",
       "\n",
       "    .dataframe tbody tr th {\n",
       "        vertical-align: top;\n",
       "    }\n",
       "\n",
       "    .dataframe thead th {\n",
       "        text-align: right;\n",
       "    }\n",
       "</style>\n",
       "<table border=\"1\" class=\"dataframe\">\n",
       "  <thead>\n",
       "    <tr style=\"text-align: right;\">\n",
       "      <th></th>\n",
       "      <th>index</th>\n",
       "      <th>time</th>\n",
       "      <th>data</th>\n",
       "    </tr>\n",
       "  </thead>\n",
       "  <tbody>\n",
       "    <tr>\n",
       "      <th>0</th>\n",
       "      <td>0</td>\n",
       "      <td>1598235552207058179</td>\n",
       "      <td>1901</td>\n",
       "    </tr>\n",
       "    <tr>\n",
       "      <th>1</th>\n",
       "      <td>1</td>\n",
       "      <td>1598235552215085790</td>\n",
       "      <td>1901</td>\n",
       "    </tr>\n",
       "    <tr>\n",
       "      <th>2</th>\n",
       "      <td>2</td>\n",
       "      <td>1598235552224730364</td>\n",
       "      <td>1902</td>\n",
       "    </tr>\n",
       "    <tr>\n",
       "      <th>3</th>\n",
       "      <td>3</td>\n",
       "      <td>1598235552234334821</td>\n",
       "      <td>1901</td>\n",
       "    </tr>\n",
       "    <tr>\n",
       "      <th>4</th>\n",
       "      <td>4</td>\n",
       "      <td>1598235552243948042</td>\n",
       "      <td>1901</td>\n",
       "    </tr>\n",
       "    <tr>\n",
       "      <th>...</th>\n",
       "      <td>...</td>\n",
       "      <td>...</td>\n",
       "      <td>...</td>\n",
       "    </tr>\n",
       "    <tr>\n",
       "      <th>41577</th>\n",
       "      <td>41577</td>\n",
       "      <td>1598235912119067533</td>\n",
       "      <td>1899</td>\n",
       "    </tr>\n",
       "    <tr>\n",
       "      <th>41578</th>\n",
       "      <td>41578</td>\n",
       "      <td>1598235912119110281</td>\n",
       "      <td>1896</td>\n",
       "    </tr>\n",
       "    <tr>\n",
       "      <th>41579</th>\n",
       "      <td>41579</td>\n",
       "      <td>1598235912162757004</td>\n",
       "      <td>1899</td>\n",
       "    </tr>\n",
       "    <tr>\n",
       "      <th>41580</th>\n",
       "      <td>41580</td>\n",
       "      <td>1598235912162832916</td>\n",
       "      <td>1899</td>\n",
       "    </tr>\n",
       "    <tr>\n",
       "      <th>41581</th>\n",
       "      <td>41581</td>\n",
       "      <td>1598235912162866533</td>\n",
       "      <td>1899</td>\n",
       "    </tr>\n",
       "  </tbody>\n",
       "</table>\n",
       "<p>41582 rows × 3 columns</p>\n",
       "</div>"
      ],
      "text/plain": [
       "       index                 time  data\n",
       "0          0  1598235552207058179  1901\n",
       "1          1  1598235552215085790  1901\n",
       "2          2  1598235552224730364  1902\n",
       "3          3  1598235552234334821  1901\n",
       "4          4  1598235552243948042  1901\n",
       "...      ...                  ...   ...\n",
       "41577  41577  1598235912119067533  1899\n",
       "41578  41578  1598235912119110281  1896\n",
       "41579  41579  1598235912162757004  1899\n",
       "41580  41580  1598235912162832916  1899\n",
       "41581  41581  1598235912162866533  1899\n",
       "\n",
       "[41582 rows x 3 columns]"
      ]
     },
     "execution_count": 2,
     "metadata": {},
     "output_type": "execute_result"
    }
   ],
   "source": [
    "data = pd.read_csv(\"rplidar_data_ceiling_1h.csv\", delimiter=\",\")\n",
    "data"
   ]
  },
  {
   "cell_type": "code",
   "execution_count": 4,
   "metadata": {},
   "outputs": [
    {
     "name": "stdout",
     "output_type": "stream",
     "text": [
      "0        1901\n",
      "1        1901\n",
      "2        1902\n",
      "3        1901\n",
      "4        1901\n",
      "         ... \n",
      "41577    1899\n",
      "41578    1896\n",
      "41579    1899\n",
      "41580    1899\n",
      "41581    1899\n",
      "Name: data, Length: 41582, dtype: int64\n"
     ]
    }
   ],
   "source": [
    "print(data[\"data\"])"
   ]
  },
  {
   "cell_type": "code",
   "execution_count": 15,
   "metadata": {},
   "outputs": [],
   "source": [
    "data_hit = data[data[\"data\"] != 6000]\n",
    "data_hit = data_hit[data_hit[\"data\"] > 1000]"
   ]
  },
  {
   "cell_type": "code",
   "execution_count": 31,
   "metadata": {},
   "outputs": [
    {
     "data": {
      "image/png": "[encoded data removed]",
      "text/plain": [
       "<Figure size 432x288 with 1 Axes>"
      ]
     },
     "metadata": {
      "needs_background": "light"
     },
     "output_type": "display_data"
    }
   ],
   "source": [
    "data_hit[\"data\"].hist(bins=max(data_hit[\"data\"])-min(data_hit[\"data\"]), align='left')\n",
    "plt.show()"
   ]
  },
  {
   "cell_type": "code",
   "execution_count": 44,
   "metadata": {},
   "outputs": [
    {
     "name": "stdout",
     "output_type": "stream",
     "text": [
      "1899.4045392482676\n",
      "11.009339452402495\n",
      "3.318032467050691\n"
     ]
    }
   ],
   "source": [
    "mean = data_hit[\"data\"].mean()\n",
    "var = data_hit[\"data\"].var()\n",
    "\n",
    "import math\n",
    "\n",
    "stddev = math.sqrt(var)\n",
    "\n",
    "print(mean)\n",
    "print(var)\n",
    "print(stddev)"
   ]
  },
  {
   "cell_type": "code",
   "execution_count": 54,
   "metadata": {},
   "outputs": [
    {
     "data": {
      "text/html": [
       "<div>\n",
       "<style scoped>\n",
       "    .dataframe tbody tr th:only-of-type {\n",
       "        vertical-align: middle;\n",
       "    }\n",
       "\n",
       "    .dataframe tbody tr th {\n",
       "        vertical-align: top;\n",
       "    }\n",
       "\n",
       "    .dataframe thead th {\n",
       "        text-align: right;\n",
       "    }\n",
       "</style>\n",
       "<table border=\"1\" class=\"dataframe\">\n",
       "  <thead>\n",
       "    <tr style=\"text-align: right;\">\n",
       "      <th></th>\n",
       "      <th>1899</th>\n",
       "      <th>1901</th>\n",
       "      <th>1896</th>\n",
       "      <th>1898</th>\n",
       "      <th>1906</th>\n",
       "      <th>1894</th>\n",
       "      <th>1907</th>\n",
       "      <th>1902</th>\n",
       "      <th>1904</th>\n",
       "      <th>1909</th>\n",
       "      <th>1893</th>\n",
       "      <th>1891</th>\n",
       "      <th>1911</th>\n",
       "    </tr>\n",
       "  </thead>\n",
       "  <tbody>\n",
       "    <tr>\n",
       "      <th>data</th>\n",
       "      <td>10144.000000</td>\n",
       "      <td>8255.000000</td>\n",
       "      <td>7057.000000</td>\n",
       "      <td>5298.000000</td>\n",
       "      <td>2163.000000</td>\n",
       "      <td>2108.000000</td>\n",
       "      <td>1312.0000</td>\n",
       "      <td>1002.000000</td>\n",
       "      <td>731.000000</td>\n",
       "      <td>508.000000</td>\n",
       "      <td>198.000000</td>\n",
       "      <td>24.000000</td>\n",
       "      <td>17.000000</td>\n",
       "    </tr>\n",
       "    <tr>\n",
       "      <th>probs</th>\n",
       "      <td>0.261329</td>\n",
       "      <td>0.212665</td>\n",
       "      <td>0.181802</td>\n",
       "      <td>0.136487</td>\n",
       "      <td>0.055723</td>\n",
       "      <td>0.054306</td>\n",
       "      <td>0.0338</td>\n",
       "      <td>0.025813</td>\n",
       "      <td>0.018832</td>\n",
       "      <td>0.013087</td>\n",
       "      <td>0.005101</td>\n",
       "      <td>0.000618</td>\n",
       "      <td>0.000438</td>\n",
       "    </tr>\n",
       "  </tbody>\n",
       "</table>\n",
       "</div>"
      ],
      "text/plain": [
       "               1899         1901         1896         1898         1906  \\\n",
       "data   10144.000000  8255.000000  7057.000000  5298.000000  2163.000000   \n",
       "probs      0.261329     0.212665     0.181802     0.136487     0.055723   \n",
       "\n",
       "              1894       1907         1902        1904        1909  \\\n",
       "data   2108.000000  1312.0000  1002.000000  731.000000  508.000000   \n",
       "probs     0.054306     0.0338     0.025813    0.018832    0.013087   \n",
       "\n",
       "             1893       1891       1911  \n",
       "data   198.000000  24.000000  17.000000  \n",
       "probs    0.005101   0.000618   0.000438  "
      ]
     },
     "execution_count": 54,
     "metadata": {},
     "output_type": "execute_result"
    }
   ],
   "source": [
    "freqs = pd.DataFrame(data_hit[\"data\"].value_counts())\n",
    "freqs.transpose()\n",
    "freqs[\"probs\"] = freqs[\"data\"]/len(data_hit[\"data\"])\n",
    "freqs[\"probs\"].sort_index()\n",
    "freqs.transpose()"
   ]
  },
  {
   "cell_type": "code",
   "execution_count": 58,
   "metadata": {},
   "outputs": [
    {
     "data": {
      "text/plain": [
       "1.0"
      ]
     },
     "execution_count": 58,
     "metadata": {},
     "output_type": "execute_result"
    }
   ],
   "source": [
    "sum(freqs[\"probs\"])"
   ]
  },
  {
   "cell_type": "code",
   "execution_count": 59,
   "metadata": {},
   "outputs": [
    {
     "data": {
      "image/png": "[encoded data removed]",
      "text/plain": [
       "<Figure size 432x288 with 1 Axes>"
      ]
     },
     "metadata": {
      "needs_background": "light"
     },
     "output_type": "display_data"
    }
   ],
   "source": [
    "freqs[\"probs\"].sort_index().plot.bar(color=\"blue\")\n",
    "plt.show()"
   ]
  },
  {
   "cell_type": "code",
   "execution_count": 61,
   "metadata": {},
   "outputs": [
    {
     "data": {
      "image/png": "[encoded data removed]",
      "text/plain": [
       "<Figure size 432x288 with 1 Axes>"
      ]
     },
     "metadata": {
      "needs_background": "light"
     },
     "output_type": "display_data"
    }
   ],
   "source": [
    "def p(z, mu=1899.4045392482676, dev=3.318032467050691):   ###pdf_from_def###\n",
    "    return math.exp(-(z - mu)**2/(2*dev))/math.sqrt(2*math.pi*dev)\n",
    "\n",
    "zs = range(1880, 1920)\n",
    "ys = [p(z) for z in zs]\n",
    "\n",
    "plt.plot(zs, ys)\n",
    "plt.show()"
   ]
  },
  {
   "cell_type": "code",
   "execution_count": 57,
   "metadata": {},
   "outputs": [
    {
     "data": {
      "image/png": "[encoded data removed]",
      "text/plain": [
       "<Figure size 432x288 with 1 Axes>"
      ]
     },
     "metadata": {
      "needs_background": "light"
     },
     "output_type": "display_data"
    }
   ],
   "source": [
    "plt.bar(zs, ys, color=\"red\", alpha=0.3)\n",
    "f = freqs[\"probs\"].sort_index()\n",
    "plt.bar(f.index, f.values, color=\"blue\", alpha=0.3)\n",
    "plt.show()"
   ]
  },
  {
   "cell_type": "code",
   "execution_count": null,
   "metadata": {},
   "outputs": [],
   "source": []
  }
 ],
 "metadata": {
  "kernelspec": {
   "display_name": "Python 3",
   "language": "python",
   "name": "python3"
  },
  "language_info": {
   "codemirror_mode": {
    "name": "ipython",
    "version": 3
   },
   "file_extension": ".py",
   "mimetype": "text/x-python",
   "name": "python",
   "nbconvert_exporter": "python",
   "pygments_lexer": "ipython3",
   "version": "3.8.2"
  }
 },
 "nbformat": 4,
 "nbformat_minor": 4
}
