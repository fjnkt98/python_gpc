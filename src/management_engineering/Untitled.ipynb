{
 "cells": [
  {
   "cell_type": "code",
   "execution_count": 2,
   "metadata": {},
   "outputs": [],
   "source": [
    "import numpy as np\n",
    "import matplotlib.pyplot as plt\n",
    "import math"
   ]
  },
  {
   "cell_type": "code",
   "execution_count": 3,
   "metadata": {},
   "outputs": [],
   "source": [
    "def cost_function(x):\n",
    "    if x <= 1152:\n",
    "        return 173 * x / 60 + 5 * math.ceil(x / 10) + 351.5\n",
    "    else:\n",
    "        return 367 * x / 120 + 5 * math.ceil(x / 10) + 351.5 - 201.6\n",
    "\n",
    "def profit_function(x):\n",
    "    return 3*x"
   ]
  },
  {
   "cell_type": "code",
   "execution_count": 4,
   "metadata": {},
   "outputs": [
    {
     "data": {
      "image/png": "[encoded data removed]",
      "text/plain": [
       "<Figure size 432x288 with 1 Axes>"
      ]
     },
     "metadata": {
      "needs_background": "light"
     },
     "output_type": "display_data"
    }
   ],
   "source": [
    "xs = np.arange(0, 3000)\n",
    "\n",
    "profit = [profit_function(x) for x in xs]\n",
    "cost = [cost_function(x) for x in xs]\n",
    "\n",
    "fig = plt.figure()\n",
    "ax = fig.add_subplot(111,\n",
    "                    xlabel=\"Production [t]\",\n",
    "                    ylabel=\"Money [10^4 Yen]\",\n",
    "                    )\n",
    "ax.plot(xs, profit, label=\"Profit\")\n",
    "ax.plot(xs, cost, label=\"Cost\")\n",
    "ax.vlines(1152, 0, 11000, colors=\"black\", linestyle=\"dotted\")\n",
    "plt.legend(loc=\"best\")\n",
    "plt.show()\n",
    "fig.savefig(\"plot.pdf\")"
   ]
  },
  {
   "cell_type": "code",
   "execution_count": 6,
   "metadata": {},
   "outputs": [
    {
     "data": {
      "text/plain": [
       "4343.1"
      ]
     },
     "execution_count": 6,
     "metadata": {},
     "output_type": "execute_result"
    }
   ],
   "source": [
    "cost_function(1152)"
   ]
  },
  {
   "cell_type": "code",
   "execution_count": 8,
   "metadata": {},
   "outputs": [
    {
     "data": {
      "text/plain": [
       "4544.7"
      ]
     },
     "execution_count": 8,
     "metadata": {},
     "output_type": "execute_result"
    }
   ],
   "source": [
    "def hoge(x):\n",
    "    return 367 * x / 120 + 5 * math.ceil(x / 10) + 441.5\n",
    "\n",
    "hoge(1152)"
   ]
  },
  {
   "cell_type": "code",
   "execution_count": 9,
   "metadata": {},
   "outputs": [
    {
     "data": {
      "text/plain": [
       "-201.59999999999945"
      ]
     },
     "execution_count": 9,
     "metadata": {},
     "output_type": "execute_result"
    }
   ],
   "source": [
    "cost_function(1152) - hoge(1152)"
   ]
  },
  {
   "cell_type": "code",
   "execution_count": 11,
   "metadata": {},
   "outputs": [
    {
     "data": {
      "text/plain": [
       "3.6919270833333337"
      ]
     },
     "execution_count": 11,
     "metadata": {},
     "output_type": "execute_result"
    }
   ],
   "source": [
    "cost_function(1152) / 1152"
   ]
  }
 ],
 "metadata": {
  "kernelspec": {
   "display_name": "Python 3",
   "language": "python",
   "name": "python3"
  },
  "language_info": {
   "codemirror_mode": {
    "name": "ipython",
    "version": 3
   },
   "file_extension": ".py",
   "mimetype": "text/x-python",
   "name": "python",
   "nbconvert_exporter": "python",
   "pygments_lexer": "ipython3",
   "version": "3.8.2"
  }
 },
 "nbformat": 4,
 "nbformat_minor": 4
}
